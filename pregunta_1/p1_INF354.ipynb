{
 "cells": [
  {
   "cell_type": "code",
   "execution_count": 10,
   "id": "4cce91af",
   "metadata": {},
   "outputs": [],
   "source": [
    "import math\n",
    "def media(mat):\n",
    "    med, n = [], len(mat)\n",
    "    for i in range(len(mat[0])):\n",
    "        s = 0\n",
    "        for j in range(n):\n",
    "            s += mat[j][i]\n",
    "        med.append(s / n)\n",
    "    return med\n",
    "    \n",
    "def moda(mat):\n",
    "    mod, n = [], len(mat)\n",
    "    for i in range(len(mat[0])):\n",
    "        s = 0\n",
    "        occ = {}\n",
    "        for j in range(n):\n",
    "            occ[mat[j][i]] = occ.get(mat[j][i], 0) + 1\n",
    "        most_frequent = max(occ.values())\n",
    "        mod.append([key for key, value in occ.items() if value == most_frequent] )\n",
    "#         print(occ)\n",
    "    return mod\n",
    "    \n",
    "def desviacion_estandar(mat):\n",
    "    d_s, n = [], len(mat)\n",
    "    mod = media(mat)\n",
    "    for i in range(len(mat[0])):\n",
    "        s = 0\n",
    "        for j in range(n):\n",
    "            s += (mat[j][i] - mod[i])*(mat[j][i] - mod[i])\n",
    "        d_s.append(math.sqrt(s / n ))\n",
    "    return d_s\n",
    "    "
   ]
  },
  {
   "cell_type": "markdown",
   "id": "ac0b1f23",
   "metadata": {},
   "source": [
    "# DataSet Netflix"
   ]
  },
  {
   "cell_type": "code",
   "execution_count": 2,
   "id": "57bc2a0f",
   "metadata": {
    "scrolled": true
   },
   "outputs": [
    {
     "data": {
      "text/html": [
       "<div>\n",
       "<style scoped>\n",
       "    .dataframe tbody tr th:only-of-type {\n",
       "        vertical-align: middle;\n",
       "    }\n",
       "\n",
       "    .dataframe tbody tr th {\n",
       "        vertical-align: top;\n",
       "    }\n",
       "\n",
       "    .dataframe thead th {\n",
       "        text-align: right;\n",
       "    }\n",
       "</style>\n",
       "<table border=\"1\" class=\"dataframe\">\n",
       "  <thead>\n",
       "    <tr style=\"text-align: right;\">\n",
       "      <th></th>\n",
       "      <th>User_ID</th>\n",
       "      <th>Rating</th>\n",
       "      <th>Movie_ID</th>\n",
       "    </tr>\n",
       "  </thead>\n",
       "  <tbody>\n",
       "    <tr>\n",
       "      <th>0</th>\n",
       "      <td>712664</td>\n",
       "      <td>5</td>\n",
       "      <td>3</td>\n",
       "    </tr>\n",
       "    <tr>\n",
       "      <th>1</th>\n",
       "      <td>1331154</td>\n",
       "      <td>4</td>\n",
       "      <td>3</td>\n",
       "    </tr>\n",
       "    <tr>\n",
       "      <th>2</th>\n",
       "      <td>2632461</td>\n",
       "      <td>3</td>\n",
       "      <td>3</td>\n",
       "    </tr>\n",
       "    <tr>\n",
       "      <th>3</th>\n",
       "      <td>44937</td>\n",
       "      <td>5</td>\n",
       "      <td>3</td>\n",
       "    </tr>\n",
       "    <tr>\n",
       "      <th>4</th>\n",
       "      <td>656399</td>\n",
       "      <td>4</td>\n",
       "      <td>3</td>\n",
       "    </tr>\n",
       "  </tbody>\n",
       "</table>\n",
       "</div>"
      ],
      "text/plain": [
       "   User_ID  Rating  Movie_ID\n",
       "0   712664       5         3\n",
       "1  1331154       4         3\n",
       "2  2632461       3         3\n",
       "3    44937       5         3\n",
       "4   656399       4         3"
      ]
     },
     "execution_count": 2,
     "metadata": {},
     "output_type": "execute_result"
    }
   ],
   "source": [
    "import pandas as pd\n",
    "\n",
    "df = pd.read_csv(\"Netflix_Dataset_Rating.csv\")\n",
    "\n",
    "df.head()"
   ]
  },
  {
   "cell_type": "code",
   "execution_count": 3,
   "id": "2d95a64d",
   "metadata": {},
   "outputs": [],
   "source": [
    "matriz = df.to_numpy()"
   ]
  },
  {
   "cell_type": "markdown",
   "id": "5f7341ed",
   "metadata": {},
   "source": [
    "# Calculo de Media, Moda y Desviacion Estandar\n",
    "\n",
    "# Media Netflix \n",
    "\n",
    "Nuestro algoritmo de la media calcula por cada atributo su media, en las columnas USER_ID, Rating y Movie_ID"
   ]
  },
  {
   "cell_type": "code",
   "execution_count": 4,
   "id": "62062435",
   "metadata": {
    "scrolled": false
   },
   "outputs": [
    {
     "data": {
      "text/plain": [
       "[1321036.2069589682, 3.637543332618077, 173.6546904131798]"
      ]
     },
     "execution_count": 4,
     "metadata": {},
     "output_type": "execute_result"
    }
   ],
   "source": [
    "media(matriz)"
   ]
  },
  {
   "cell_type": "markdown",
   "id": "ada1e074",
   "metadata": {},
   "source": [
    "### Hallar media con Pandas"
   ]
  },
  {
   "cell_type": "code",
   "execution_count": 5,
   "id": "c845edaa",
   "metadata": {
    "scrolled": false
   },
   "outputs": [
    {
     "data": {
      "text/plain": [
       "User_ID     1.321036e+06\n",
       "Rating      3.637543e+00\n",
       "Movie_ID    1.736547e+02\n",
       "dtype: float64"
      ]
     },
     "execution_count": 5,
     "metadata": {},
     "output_type": "execute_result"
    }
   ],
   "source": [
    "df.mean()"
   ]
  },
  {
   "cell_type": "markdown",
   "id": "c585174d",
   "metadata": {},
   "source": [
    "### Hallar media con Numpy"
   ]
  },
  {
   "cell_type": "code",
   "execution_count": 8,
   "id": "6d374321",
   "metadata": {},
   "outputs": [
    {
     "data": {
      "text/plain": [
       "array([1.32103621e+06, 3.63754333e+00, 1.73654690e+02])"
      ]
     },
     "execution_count": 8,
     "metadata": {},
     "output_type": "execute_result"
    }
   ],
   "source": [
    "np.mean(matriz, axis=0)"
   ]
  },
  {
   "cell_type": "markdown",
   "id": "88439db6",
   "metadata": {},
   "source": [
    "# Moda Netflix \n",
    "\n",
    "Nuestro algoritmo retorna un array con la moda calculada por cada atributo, en las columnas USER_ID, Rating y Movie_ID"
   ]
  },
  {
   "cell_type": "code",
   "execution_count": 11,
   "id": "146dd71b",
   "metadata": {},
   "outputs": [
    {
     "name": "stdout",
     "output_type": "stream",
     "text": [
      "User_ID\tRating\tMovie_ID\n",
      "305344\t4\t30\t"
     ]
    }
   ],
   "source": [
    "mod = moda(matriz)\n",
    "\n",
    "print('User_ID\\tRating\\tMovie_ID')\n",
    "for i in range(len(mod)):\n",
    "    print(mod[i][0], end = '\\t')"
   ]
  },
  {
   "cell_type": "markdown",
   "id": "1c149e44",
   "metadata": {},
   "source": [
    "### Hallar Moda con Pandas"
   ]
  },
  {
   "cell_type": "code",
   "execution_count": 12,
   "id": "c53d490a",
   "metadata": {
    "scrolled": true
   },
   "outputs": [
    {
     "data": {
      "text/html": [
       "<div>\n",
       "<style scoped>\n",
       "    .dataframe tbody tr th:only-of-type {\n",
       "        vertical-align: middle;\n",
       "    }\n",
       "\n",
       "    .dataframe tbody tr th {\n",
       "        vertical-align: top;\n",
       "    }\n",
       "\n",
       "    .dataframe thead th {\n",
       "        text-align: right;\n",
       "    }\n",
       "</style>\n",
       "<table border=\"1\" class=\"dataframe\">\n",
       "  <thead>\n",
       "    <tr style=\"text-align: right;\">\n",
       "      <th></th>\n",
       "      <th>User_ID</th>\n",
       "      <th>Rating</th>\n",
       "      <th>Movie_ID</th>\n",
       "    </tr>\n",
       "  </thead>\n",
       "  <tbody>\n",
       "    <tr>\n",
       "      <th>0</th>\n",
       "      <td>305344</td>\n",
       "      <td>4</td>\n",
       "      <td>30</td>\n",
       "    </tr>\n",
       "  </tbody>\n",
       "</table>\n",
       "</div>"
      ],
      "text/plain": [
       "   User_ID  Rating  Movie_ID\n",
       "0   305344       4        30"
      ]
     },
     "execution_count": 12,
     "metadata": {},
     "output_type": "execute_result"
    }
   ],
   "source": [
    "df.mode(axis = 0)"
   ]
  },
  {
   "cell_type": "markdown",
   "id": "5c733e57",
   "metadata": {},
   "source": [
    "### Hallar moda con Numpy"
   ]
  },
  {
   "cell_type": "code",
   "execution_count": 13,
   "id": "9e876466",
   "metadata": {},
   "outputs": [
    {
     "data": {
      "text/plain": [
       "ModeResult(mode=array([[305344,      4,     30]], dtype=int64), count=array([[    91, 369927,  77502]]))"
      ]
     },
     "execution_count": 13,
     "metadata": {},
     "output_type": "execute_result"
    }
   ],
   "source": [
    "from scipy import stats\n",
    "stats.mode(matriz)"
   ]
  },
  {
   "cell_type": "markdown",
   "id": "207736bb",
   "metadata": {},
   "source": [
    "# Desviacion Estandar Netflix \n",
    "\n",
    "Nuestro algoritmo retorna un array con la desviacion calculada por cada atributo, en las columnas USER_ID, Rating y Movie_ID"
   ]
  },
  {
   "cell_type": "code",
   "execution_count": 15,
   "id": "41f5394c",
   "metadata": {},
   "outputs": [
    {
     "name": "stdout",
     "output_type": "stream",
     "text": [
      "[764331.3854134891, 1.0550562437520226, 87.9825473147398]\n"
     ]
    }
   ],
   "source": [
    "print(desviacion_estandar(matriz))"
   ]
  },
  {
   "cell_type": "markdown",
   "id": "38f07109",
   "metadata": {},
   "source": [
    "### Hallar Desviacion Estandar con Pandas"
   ]
  },
  {
   "cell_type": "code",
   "execution_count": 16,
   "id": "b965feb7",
   "metadata": {},
   "outputs": [
    {
     "data": {
      "text/plain": [
       "User_ID     764331.749876\n",
       "Rating           1.055057\n",
       "Movie_ID        87.982589\n",
       "dtype: float64"
      ]
     },
     "execution_count": 16,
     "metadata": {},
     "output_type": "execute_result"
    }
   ],
   "source": [
    "df.std()"
   ]
  },
  {
   "cell_type": "markdown",
   "id": "a1ac6d02",
   "metadata": {},
   "source": [
    "### Hallar Desviacion Estandar con Numpy"
   ]
  },
  {
   "cell_type": "code",
   "execution_count": 17,
   "id": "d7845fba",
   "metadata": {},
   "outputs": [
    {
     "data": {
      "text/plain": [
       "array([7.64331385e+05, 1.05505624e+00, 8.79825473e+01])"
      ]
     },
     "execution_count": 17,
     "metadata": {},
     "output_type": "execute_result"
    }
   ],
   "source": [
    "np.std(matriz, axis=0)"
   ]
  },
  {
   "cell_type": "markdown",
   "id": "f4aed9d4",
   "metadata": {},
   "source": [
    "# <center> Graficos\n",
    "### Graficamos los datos de la columna Rating"
   ]
  },
  {
   "cell_type": "code",
   "execution_count": 18,
   "id": "9598a3c8",
   "metadata": {},
   "outputs": [
    {
     "name": "stdout",
     "output_type": "stream",
     "text": [
      "[4, 3, 5, 2, 1] [369927, 299718, 239759, 97409, 41762]\n"
     ]
    }
   ],
   "source": [
    "import matplotlib.pyplot as plt\n",
    "valores_x = df[\"Rating\"].value_counts().index.tolist()\n",
    "valores_y = df[\"Rating\"].value_counts().tolist()\n",
    "print(valores_x, valores_y)"
   ]
  },
  {
   "cell_type": "markdown",
   "id": "6012a3b6",
   "metadata": {},
   "source": [
    "### En la grafica se observa como el valor de Rating es el valor que mas se repite, si se compara con la MODA podemos observar que es correcto"
   ]
  },
  {
   "cell_type": "code",
   "execution_count": 19,
   "id": "56d39bed",
   "metadata": {
    "scrolled": true
   },
   "outputs": [
    {
     "data": {
      "image/png": "[encoded data removed]",
      "text/plain": [
       "<Figure size 432x288 with 1 Axes>"
      ]
     },
     "metadata": {
      "needs_background": "light"
     },
     "output_type": "display_data"
    }
   ],
   "source": [
    "# Moda Rating: 4\n",
    "plt.bar(valores_x, valores_y)\n",
    "plt.title(\"Netflix Rating \")\n",
    "plt.ylabel('Count')\n",
    "plt.xlabel('Rate')\n",
    "plt.show()"
   ]
  },
  {
   "cell_type": "code",
   "execution_count": 20,
   "id": "e3a6736d",
   "metadata": {
    "scrolled": true
   },
   "outputs": [],
   "source": [
    "valores_x = df[\"Movie_ID\"].value_counts().index.tolist()\n",
    "valores_y = df[\"Movie_ID\"].value_counts().tolist()"
   ]
  },
  {
   "cell_type": "markdown",
   "id": "cbacd39d",
   "metadata": {},
   "source": [
    "### En la grafica vemos que el valor que mas se repite se encuentra en el intervalo 20- 40, si comparamos con la Moda de la columna Movie_ID vemos que la moda es \"30\""
   ]
  },
  {
   "cell_type": "code",
   "execution_count": 22,
   "id": "935c1103",
   "metadata": {
    "scrolled": false
   },
   "outputs": [
    {
     "data": {
      "image/png": "[encoded data removed]",
      "text/plain": [
       "<Figure size 460.8x345.6 with 1 Axes>"
      ]
     },
     "metadata": {
      "needs_background": "light"
     },
     "output_type": "display_data"
    }
   ],
   "source": [
    "plt.scatter(valores_x, valores_y, 10, 'red')\n",
    "plt.rcParams[\"figure.figsize\"] = [20,5]\n",
    "plt.title(\"Netflix Movie \")\n",
    "plt.xticks([i for i in range(0, 310, 20)])\n",
    "plt.show()\n",
    "plt.rcParams[\"figure.figsize\"] = plt.rcParamsDefault[\"figure.figsize\"]"
   ]
  }
 ],
 "metadata": {
  "kernelspec": {
   "display_name": "Python 3",
   "language": "python",
   "name": "python3"
  },
  "language_info": {
   "codemirror_mode": {
    "name": "ipython",
    "version": 3
   },
   "file_extension": ".py",
   "mimetype": "text/x-python",
   "name": "python",
   "nbconvert_exporter": "python",
   "pygments_lexer": "ipython3",
   "version": "3.9.4"
  }
 },
 "nbformat": 4,
 "nbformat_minor": 5
}

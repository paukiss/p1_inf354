{
 "cells": [
  {
   "cell_type": "markdown",
   "id": "4f3fa709",
   "metadata": {},
   "source": [
    "## Lectura del archivo csv con pandas"
   ]
  },
  {
   "cell_type": "code",
   "execution_count": 5,
   "id": "3feae51e",
   "metadata": {},
   "outputs": [
    {
     "data": {
      "text/html": [
       "<div>\n",
       "<style scoped>\n",
       "    .dataframe tbody tr th:only-of-type {\n",
       "        vertical-align: middle;\n",
       "    }\n",
       "\n",
       "    .dataframe tbody tr th {\n",
       "        vertical-align: top;\n",
       "    }\n",
       "\n",
       "    .dataframe thead th {\n",
       "        text-align: right;\n",
       "    }\n",
       "</style>\n",
       "<table border=\"1\" class=\"dataframe\">\n",
       "  <thead>\n",
       "    <tr style=\"text-align: right;\">\n",
       "      <th></th>\n",
       "      <th>Latitude</th>\n",
       "      <th>Longitude</th>\n",
       "      <th>SO2</th>\n",
       "      <th>NO2</th>\n",
       "      <th>O3</th>\n",
       "      <th>CO</th>\n",
       "      <th>PM10</th>\n",
       "      <th>PM2.5</th>\n",
       "      <th>Station Code</th>\n",
       "    </tr>\n",
       "  </thead>\n",
       "  <tbody>\n",
       "    <tr>\n",
       "      <th>0</th>\n",
       "      <td>37.572016</td>\n",
       "      <td>127.005008</td>\n",
       "      <td>0.004</td>\n",
       "      <td>0.059</td>\n",
       "      <td>0.002</td>\n",
       "      <td>1.2</td>\n",
       "      <td>73</td>\n",
       "      <td>57</td>\n",
       "      <td>101</td>\n",
       "    </tr>\n",
       "    <tr>\n",
       "      <th>1</th>\n",
       "      <td>37.572016</td>\n",
       "      <td>127.005008</td>\n",
       "      <td>0.004</td>\n",
       "      <td>0.058</td>\n",
       "      <td>0.002</td>\n",
       "      <td>1.2</td>\n",
       "      <td>71</td>\n",
       "      <td>59</td>\n",
       "      <td>101</td>\n",
       "    </tr>\n",
       "    <tr>\n",
       "      <th>2</th>\n",
       "      <td>37.572016</td>\n",
       "      <td>127.005008</td>\n",
       "      <td>0.004</td>\n",
       "      <td>0.056</td>\n",
       "      <td>0.002</td>\n",
       "      <td>1.2</td>\n",
       "      <td>70</td>\n",
       "      <td>59</td>\n",
       "      <td>101</td>\n",
       "    </tr>\n",
       "    <tr>\n",
       "      <th>3</th>\n",
       "      <td>37.572016</td>\n",
       "      <td>127.005008</td>\n",
       "      <td>0.004</td>\n",
       "      <td>0.056</td>\n",
       "      <td>0.002</td>\n",
       "      <td>1.2</td>\n",
       "      <td>70</td>\n",
       "      <td>58</td>\n",
       "      <td>101</td>\n",
       "    </tr>\n",
       "    <tr>\n",
       "      <th>4</th>\n",
       "      <td>37.572016</td>\n",
       "      <td>127.005008</td>\n",
       "      <td>0.003</td>\n",
       "      <td>0.051</td>\n",
       "      <td>0.002</td>\n",
       "      <td>1.2</td>\n",
       "      <td>69</td>\n",
       "      <td>61</td>\n",
       "      <td>101</td>\n",
       "    </tr>\n",
       "    <tr>\n",
       "      <th>...</th>\n",
       "      <td>...</td>\n",
       "      <td>...</td>\n",
       "      <td>...</td>\n",
       "      <td>...</td>\n",
       "      <td>...</td>\n",
       "      <td>...</td>\n",
       "      <td>...</td>\n",
       "      <td>...</td>\n",
       "      <td>...</td>\n",
       "    </tr>\n",
       "    <tr>\n",
       "      <th>647506</th>\n",
       "      <td>37.544962</td>\n",
       "      <td>127.136792</td>\n",
       "      <td>0.003</td>\n",
       "      <td>0.028</td>\n",
       "      <td>0.013</td>\n",
       "      <td>0.5</td>\n",
       "      <td>23</td>\n",
       "      <td>17</td>\n",
       "      <td>125</td>\n",
       "    </tr>\n",
       "    <tr>\n",
       "      <th>647507</th>\n",
       "      <td>37.544962</td>\n",
       "      <td>127.136792</td>\n",
       "      <td>0.003</td>\n",
       "      <td>0.025</td>\n",
       "      <td>0.015</td>\n",
       "      <td>0.4</td>\n",
       "      <td>25</td>\n",
       "      <td>19</td>\n",
       "      <td>125</td>\n",
       "    </tr>\n",
       "    <tr>\n",
       "      <th>647508</th>\n",
       "      <td>37.544962</td>\n",
       "      <td>127.136792</td>\n",
       "      <td>0.003</td>\n",
       "      <td>0.023</td>\n",
       "      <td>0.015</td>\n",
       "      <td>0.4</td>\n",
       "      <td>24</td>\n",
       "      <td>17</td>\n",
       "      <td>125</td>\n",
       "    </tr>\n",
       "    <tr>\n",
       "      <th>647509</th>\n",
       "      <td>37.544962</td>\n",
       "      <td>127.136792</td>\n",
       "      <td>0.003</td>\n",
       "      <td>0.040</td>\n",
       "      <td>0.004</td>\n",
       "      <td>0.5</td>\n",
       "      <td>25</td>\n",
       "      <td>18</td>\n",
       "      <td>125</td>\n",
       "    </tr>\n",
       "    <tr>\n",
       "      <th>647510</th>\n",
       "      <td>37.544962</td>\n",
       "      <td>127.136792</td>\n",
       "      <td>0.003</td>\n",
       "      <td>0.037</td>\n",
       "      <td>0.005</td>\n",
       "      <td>0.5</td>\n",
       "      <td>27</td>\n",
       "      <td>18</td>\n",
       "      <td>125</td>\n",
       "    </tr>\n",
       "  </tbody>\n",
       "</table>\n",
       "<p>647511 rows × 9 columns</p>\n",
       "</div>"
      ],
      "text/plain": [
       "         Latitude   Longitude    SO2    NO2     O3   CO  PM10  PM2.5  \\\n",
       "0       37.572016  127.005008  0.004  0.059  0.002  1.2    73     57   \n",
       "1       37.572016  127.005008  0.004  0.058  0.002  1.2    71     59   \n",
       "2       37.572016  127.005008  0.004  0.056  0.002  1.2    70     59   \n",
       "3       37.572016  127.005008  0.004  0.056  0.002  1.2    70     58   \n",
       "4       37.572016  127.005008  0.003  0.051  0.002  1.2    69     61   \n",
       "...           ...         ...    ...    ...    ...  ...   ...    ...   \n",
       "647506  37.544962  127.136792  0.003  0.028  0.013  0.5    23     17   \n",
       "647507  37.544962  127.136792  0.003  0.025  0.015  0.4    25     19   \n",
       "647508  37.544962  127.136792  0.003  0.023  0.015  0.4    24     17   \n",
       "647509  37.544962  127.136792  0.003  0.040  0.004  0.5    25     18   \n",
       "647510  37.544962  127.136792  0.003  0.037  0.005  0.5    27     18   \n",
       "\n",
       "        Station Code  \n",
       "0                101  \n",
       "1                101  \n",
       "2                101  \n",
       "3                101  \n",
       "4                101  \n",
       "...              ...  \n",
       "647506           125  \n",
       "647507           125  \n",
       "647508           125  \n",
       "647509           125  \n",
       "647510           125  \n",
       "\n",
       "[647511 rows x 9 columns]"
      ]
     },
     "execution_count": 5,
     "metadata": {},
     "output_type": "execute_result"
    }
   ],
   "source": [
    "import pandas as pd\n",
    "import numpy as np\n",
    "from sklearn import preprocessing\n",
    "df = pd.read_csv(\"Measurement_summary.csv\")\n",
    "df"
   ]
  },
  {
   "cell_type": "markdown",
   "id": "1f990279",
   "metadata": {},
   "source": [
    "### Estandariza un conjunto de datos a lo largo de cualquier eje.\n",
    "\n",
    "### Centro a la media y escala de componentes a la varianza de la unidad."
   ]
  },
  {
   "cell_type": "code",
   "execution_count": 17,
   "id": "31c50a4d",
   "metadata": {
    "scrolled": true
   },
   "outputs": [
    {
     "name": "stdout",
     "output_type": "stream",
     "text": [
      "\n",
      "[[-1.66408345 -1.66408345 -1.66408345 ... -1.12744457  0.59912365\n",
      "  -1.66408345]\n",
      " [-1.66408345 -1.66408345 -1.66408345 ... -1.0548742  -0.64834609\n",
      "  -1.66408345]\n",
      " [-1.66408345 -1.66408345 -1.66408345 ... -0.98230384 -0.64834609\n",
      "  -1.66408345]\n",
      " ...\n",
      " [ 1.6640222   1.6640222   1.6640222  ...  0.46910346  0.75505737\n",
      "   1.6640222 ]\n",
      " [ 1.6640222   1.6640222   1.6640222  ...  3.08163658 -0.88224667\n",
      "   1.6640222 ]\n",
      " [ 1.6640222   1.6640222   1.6640222  ...  0.39653309 -0.88224667\n",
      "   1.6640222 ]]\n"
     ]
    }
   ],
   "source": [
    "# Como se tiene valores no float64, se reemplaza los valores que son str por un dato numerico.\n",
    "\n",
    "matriz = np.array(mat) \n",
    "\n",
    "matriz_salida_normalize = preprocessing.scale(matriz)\n",
    "print('')\n",
    "print(matriz_salida_normalize)"
   ]
  },
  {
   "cell_type": "markdown",
   "id": "dbe2679d",
   "metadata": {},
   "source": [
    "### Escale los vectores de entrada individualmente a la normal unitaria"
   ]
  },
  {
   "cell_type": "code",
   "execution_count": 16,
   "id": "3fc39784",
   "metadata": {},
   "outputs": [
    {
     "name": "stdout",
     "output_type": "stream",
     "text": [
      "Normalize\n",
      "[[0.02750327 0.02750327 0.02750327 ... 0.02750327 0.68758166 0.02750327]\n",
      " [0.06008418 0.06008418 0.06008418 ... 0.12016835 0.54075759 0.06008418]\n",
      " [0.04540766 0.04540766 0.04540766 ... 0.13622298 0.40866895 0.04540766]\n",
      " ...\n",
      " [0.36005715 0.36005715 0.36005715 ... 0.33125258 0.38886173 0.36005715]\n",
      " [0.29940657 0.29940657 0.29940657 ... 0.70659949 0.07185758 0.29940657]\n",
      " [0.28209446 0.28209446 0.28209446 ... 0.24824313 0.06770267 0.28209446]]\n"
     ]
    }
   ],
   "source": [
    "matriz = np.array(mat) \n",
    "\n",
    "matriz_salida_normalize = preprocessing.normalize(matriz)\n",
    "print('Normalize')\n",
    "print(matriz_salida_normalize)"
   ]
  },
  {
   "cell_type": "markdown",
   "id": "55b3f86b",
   "metadata": {},
   "source": [
    "### Agrupa los datos continuos en intervalos."
   ]
  },
  {
   "cell_type": "code",
   "execution_count": 14,
   "id": "04d03f37",
   "metadata": {},
   "outputs": [
    {
     "name": "stdout",
     "output_type": "stream",
     "text": [
      "KBinsDiscretizer(n_bins=array([[1, 1, 1, ..., 1, 25, 1],\n",
      "       [1, 1, 1, ..., 2, 9, 1],\n",
      "       [1, 1, 1, ..., 3, 9, 1],\n",
      "       ...,\n",
      "       [25, 25, 25, ..., 23, 27, 25],\n",
      "       [25, 25, 25, ..., 59, 6, 25],\n",
      "       [25, 25, 25, ..., 22, 6, 25]], dtype=object))\n"
     ]
    }
   ],
   "source": [
    "matriz = np.array(mat) \n",
    "\n",
    "matriz_salida_scale = preprocessing.KBinsDiscretizer(matriz)\n",
    "print(matriz_salida_scale)"
   ]
  }
 ],
 "metadata": {
  "kernelspec": {
   "display_name": "Python 3",
   "language": "python",
   "name": "python3"
  },
  "language_info": {
   "codemirror_mode": {
    "name": "ipython",
    "version": 3
   },
   "file_extension": ".py",
   "mimetype": "text/x-python",
   "name": "python",
   "nbconvert_exporter": "python",
   "pygments_lexer": "ipython3",
   "version": "3.9.4"
  }
 },
 "nbformat": 4,
 "nbformat_minor": 5
}

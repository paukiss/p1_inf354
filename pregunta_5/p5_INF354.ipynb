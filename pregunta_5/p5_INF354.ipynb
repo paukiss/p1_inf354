{
 "cells": [
  {
   "cell_type": "code",
   "execution_count": 45,
   "id": "122b0e5b",
   "metadata": {},
   "outputs": [],
   "source": [
    "def abuelo_1(x, z):\n",
    "    y = var()\n",
    "    return lall(padre(x, y), padre(y, z))\n",
    "\n",
    "def tio_1(x, y):\n",
    "    temp = var()\n",
    "    return conde((padre(temp, x), abuelo_1(temp, y)))"
   ]
  },
  {
   "cell_type": "code",
   "execution_count": 46,
   "id": "d914997c",
   "metadata": {
    "scrolled": true
   },
   "outputs": [
    {
     "name": "stdout",
     "output_type": "stream",
     "text": [
      "('Leo', 'Adelaida')\n",
      "('Veronica', 'Sergio')\n",
      "('Inocencio', 'Celso')\n",
      "('Reina', 'Mariano')\n",
      "('Brenda', 'Yoshi')\n",
      "('Veronica', 'Sergio')\n",
      "('Veronica',)\n"
     ]
    }
   ],
   "source": [
    "from kanren import run, eq, var, lall, conde\n",
    "x = var()\n",
    "\n",
    "from kanren import Relation, facts\n",
    "padre = Relation()\n",
    "facts(padre,  (\"Leo\",\"Sergio\"), \n",
    "              (\"Leo\",\"Veronica\"),\n",
    "              (\"Adelaida\",\"Sergio\"),\n",
    "              (\"Adelaida\",\"Veronica\"),\n",
    "              (\"Inocencio\",\"Adelaida\"),\n",
    "              (\"Petrona\", \"Adelaida\"),\n",
    "              (\"Inocencio\",\"Reina\"),\n",
    "              (\"Petrona\", \"Reina\"),  \n",
    "              (\"Celso\", \"Leo\"),\n",
    "              (\"Antonia\",\"Leo\"),\n",
    "              (\"Mariano\",\"Yoshi\"),\n",
    "              (\"Mariano\", \"Brenda\"))\n",
    "\n",
    "abuelo = Relation()\n",
    "facts(abuelo, (\"Celso\", \"Sergio\"),\n",
    "              (\"Inocencio\", \"Sergio\"),\n",
    "              (\"Celso\", \"Veronica\"),\n",
    "              (\"Inocencio\", \"Brenda\"),\n",
    "              (\"Inocencio\", \"Yoshi\"),\n",
    "              (\"Inocencio\", \"Veronica\"))\n",
    "\n",
    "tio = Relation()\n",
    "facts(tio,    (\"Reina\", \"Sergio\"),\n",
    "              (\"Reina\", \"Veronica\"),\n",
    "              (\"Mariano\", \"Sergio\"),\n",
    "              (\"Mariano\", \"Veronica\"),\n",
    "              (\"Celso\", \"Brenda\"),\n",
    "              (\"Celso\", \"Yoshi\"),\n",
    "              (\"Adelaida\", \"Brenda\"),\n",
    "              (\"Adelaida\", \"Yoshi\"))\n",
    "\n",
    "primo = Relation()\n",
    "facts(primo,  (\"Sergio\", \"Yoshi\"),\n",
    "              (\"Sergio\", \"Brenda\"),\n",
    "              (\"Veronica\", \"Yoshi\"),\n",
    "              (\"Veronica\", \"Brenda\"),\n",
    "              (\"Yoshi\", \"Veronica\"),\n",
    "              (\"Yoshi\", \"Sergio\"),\n",
    "              (\"Brenda\", \"Veronica\"),\n",
    "              (\"Brenda\", \"Sergio\"))\n",
    "\n",
    "hijo = Relation()\n",
    "facts(hijo,  (\"Sergio\",\"Leo\"), \n",
    "              (\"Veronica\",\"Leo\"),\n",
    "              (\"Adelaida\", \"Inocencio\"),\n",
    "              (\"Adelaida\", \"Petrona\"),\n",
    "              (\"Reina\", \"Inocencio\"),\n",
    "              (\"Reina\", \"Petrona\", ),  \n",
    "              (\"Leo\", \"Celso\", ),\n",
    "              (\"Leo\", \"Antonia\"),\n",
    "              (\"Yoshi\", \"Mariano\"),\n",
    "              (\"Brenda\", \"Mariano\"))\n",
    "\n",
    "print(run(0, x, padre(x,\"Sergio\")))\n",
    "print(run(0, x, abuelo(\"Celso\", x)))\n",
    "print(run(0, x, abuelo(x, \"Sergio\")))\n",
    "\n",
    "print(run(0, x, tio(x,\"Sergio\")))\n",
    "print(run(0, x, primo(x, \"Sergio\")))\n",
    "\n",
    "print(run(0, x, hijo(x, \"Leo\")))\n",
    "\n",
    "print(run(1, x, hijo(x, \"Leo\")))\n"
   ]
  },
  {
   "cell_type": "code",
   "execution_count": 47,
   "id": "da3e2841",
   "metadata": {},
   "outputs": [
    {
     "data": {
      "text/plain": [
       "('Celso', 'Inocencio', 'Petrona', 'Antonia')"
      ]
     },
     "execution_count": 47,
     "metadata": {},
     "output_type": "execute_result"
    }
   ],
   "source": [
    "run(0, x, abuelo_1(x, 'Sergio'))"
   ]
  },
  {
   "cell_type": "code",
   "execution_count": 48,
   "id": "e82fc3fc",
   "metadata": {
    "scrolled": true
   },
   "outputs": [
    {
     "data": {
      "text/plain": [
       "('Inocencio', 'Celso')"
      ]
     },
     "execution_count": 48,
     "metadata": {},
     "output_type": "execute_result"
    }
   ],
   "source": [
    "run(0, x, abuelo(x, 'Sergio'))"
   ]
  },
  {
   "cell_type": "code",
   "execution_count": 49,
   "id": "1cb36de2",
   "metadata": {},
   "outputs": [
    {
     "data": {
      "text/plain": [
       "('Antonia', 'Celso')"
      ]
     },
     "execution_count": 49,
     "metadata": {},
     "output_type": "execute_result"
    }
   ],
   "source": [
    "run(0, x, padre(x, 'Leo'))"
   ]
  },
  {
   "cell_type": "code",
   "execution_count": 50,
   "id": "f19d1b39",
   "metadata": {
    "scrolled": true
   },
   "outputs": [
    {
     "data": {
      "text/plain": [
       "('Leo', 'Adelaida', 'Reina')"
      ]
     },
     "execution_count": 50,
     "metadata": {},
     "output_type": "execute_result"
    }
   ],
   "source": [
    "run(0, x, tio_1(x, 'Sergio'))"
   ]
  }
 ],
 "metadata": {
  "kernelspec": {
   "display_name": "Python 3",
   "language": "python",
   "name": "python3"
  },
  "language_info": {
   "codemirror_mode": {
    "name": "ipython",
    "version": 3
   },
   "file_extension": ".py",
   "mimetype": "text/x-python",
   "name": "python",
   "nbconvert_exporter": "python",
   "pygments_lexer": "ipython3",
   "version": "3.9.4"
  }
 },
 "nbformat": 4,
 "nbformat_minor": 5
}

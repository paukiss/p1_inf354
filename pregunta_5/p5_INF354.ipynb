{
 "cells": [
  {
   "cell_type": "code",
   "execution_count": 7,
   "id": "d90c9e74",
   "metadata": {},
   "outputs": [
    {
     "name": "stdout",
     "output_type": "stream",
     "text": [
      "('Leo',)\n",
      "('Veronica', 'Sergio')\n",
      "('Inocencio', 'Celso')\n",
      "('Reina', 'Mariano')\n",
      "('Brenda', 'Yoshi')\n",
      "('Veronica', 'Sergio')\n",
      "('Veronica',)\n"
     ]
    }
   ],
   "source": [
    "from kanren import run, eq, var\n",
    "x = var()\n",
    "\n",
    "from kanren import Relation, facts\n",
    "padre = Relation()\n",
    "facts(padre,  (\"Leo\",\"Sergio\"), \n",
    "              (\"Leo\",\"Veronica\"),\n",
    "              (\"Inocencio\",\"Adelaida\"),\n",
    "              (\"Petrona\", \"Adelaida\"),\n",
    "              (\"Inocencio\",\"Reina\"),\n",
    "              (\"Petrona\", \"Reina\"),  \n",
    "              (\"Celso\", \"Leo\"),\n",
    "              (\"Antonia\",\"Leo\"),\n",
    "              (\"Mariano\",\"Yoshi\"),\n",
    "              (\"Mariano\", \"Brenda\"))\n",
    "\n",
    "abuelo = Relation()\n",
    "facts(abuelo, (\"Celso\", \"Sergio\"),\n",
    "              (\"Inocencio\", \"Sergio\"),\n",
    "              (\"Celso\", \"Veronica\"),\n",
    "              (\"Inocencio\", \"Brenda\"),\n",
    "              (\"Inocencio\", \"Yoshi\"),\n",
    "              (\"Inocencio\", \"Veronica\"))\n",
    "\n",
    "tio = Relation()\n",
    "facts(tio,    (\"Reina\", \"Sergio\"),\n",
    "              (\"Reina\", \"Veronica\"),\n",
    "              (\"Mariano\", \"Sergio\"),\n",
    "              (\"Mariano\", \"Veronica\"),\n",
    "              (\"Celso\", \"Brenda\"),\n",
    "              (\"Celso\", \"Yoshi\"),\n",
    "              (\"Adelaida\", \"Brenda\"),\n",
    "              (\"Adelaida\", \"Yoshi\"))\n",
    "\n",
    "primo = Relation()\n",
    "facts(primo,  (\"Sergio\", \"Yoshi\"),\n",
    "              (\"Sergio\", \"Brenda\"),\n",
    "              (\"Veronica\", \"Yoshi\"),\n",
    "              (\"Veronica\", \"Brenda\"),\n",
    "              (\"Yoshi\", \"Veronica\"),\n",
    "              (\"Yoshi\", \"Sergio\"),\n",
    "              (\"Brenda\", \"Veronica\"),\n",
    "              (\"Brenda\", \"Sergio\"))\n",
    "\n",
    "hijo = Relation()\n",
    "facts(hijo,  (\"Sergio\",\"Leo\"), \n",
    "              (\"Veronica\",\"Leo\"),\n",
    "              (\"Adelaida\", \"Inocencio\"),\n",
    "              (\"Adelaida\", \"Petrona\"),\n",
    "              (\"Reina\", \"Inocencio\"),\n",
    "              (\"Reina\", \"Petrona\", ),  \n",
    "              (\"Leo\", \"Celso\", ),\n",
    "              (\"Leo\", \"Antonia\"),\n",
    "              (\"Yoshi\", \"Mariano\"),\n",
    "              (\"Brenda\", \"Mariano\"))\n",
    "\n",
    "print(run(0, x, padre(x,\"Sergio\")))\n",
    "print(run(0, x, abuelo(\"Celso\", x)))\n",
    "print(run(0, x, abuelo(x, \"Sergio\")))\n",
    "\n",
    "print(run(0, x, tio(x,\"Sergio\")))\n",
    "print(run(0, x, primo(x, \"Sergio\")))\n",
    "\n",
    "print(run(0, x, hijo(x, \"Leo\")))\n",
    "\n",
    "print(run(1, x, hijo(x, \"Leo\")))\n"
   ]
  }
 ],
 "metadata": {
  "kernelspec": {
   "display_name": "Python 3",
   "language": "python",
   "name": "python3"
  },
  "language_info": {
   "codemirror_mode": {
    "name": "ipython",
    "version": 3
   },
   "file_extension": ".py",
   "mimetype": "text/x-python",
   "name": "python",
   "nbconvert_exporter": "python",
   "pygments_lexer": "ipython3",
   "version": "3.9.4"
  }
 },
 "nbformat": 4,
 "nbformat_minor": 5
}
